{
 "cells": [
  {
   "cell_type": "markdown",
   "metadata": {},
   "source": [
    "# Three Different Types\n",
    "## Supervised Learning\n",
    "- Labeled data\n",
    "- Direct feedback\n",
    "- Predict outcome/future\n",
    "\n",
    "## Unsupervised Learning\n",
    "- No labels\n",
    "- No feedback\n",
    "- Find hidden structures in data\n",
    "\n",
    "## Reinforcement Learning\n",
    "- Decision Process\n",
    "- Reward system"
   ]
  },
  {
   "cell_type": "markdown",
   "metadata": {},
   "source": [
    "# Supervised learning\n",
    "### The main goal in supervised learning is to learn a model from labeled training data that allows predictions about unseen or future data. \"supervised\" refers to a set of training examples (data inputs) where the desired output signals (labels) are already known    \n",
    "\n",
    "- labeled training data is passed to a machine learning algorithm for fitting a predictive model that can make predictions on new, unlabeled data inputs\n",
    "- example: email spam filtering\n",
    "\tcan train a model using a supervised machine learning algorithm on a corpus of labeled emails, which are correctly marked as spam or non-spam, to predict whether a new email belongs to either of the two categories. \n",
    "\n",
    "- A supervised learning task with discrete class labels, such as in the previous email spam filtering example, is also called a classification task. "
   ]
  },
  {
   "cell_type": "markdown",
   "metadata": {},
   "source": [
    "# Classification for predicting class labels \n",
    "### Classification is a subcategory of supervised learning where the goal is to predict the categorical class labels of new instances, based on past observations. \n",
    "\n",
    "- Class labels are discrete, unordered values that can be understood as the group memberships of the instances.\n",
    "\n",
    "#### Binary classification\n",
    "- Example of email spam detection represents a typical example of a binary classification task, where the machine learning algorithm learns a set of rules in order to distinguish between two possible classes: spam and non-spam emails.\n",
    "\n",
    "#### Multiclass classification\n",
    "- example of a multiclass classification task is handwritten character recognition. \n",
    "- Collect a training dataset that consists of multiple handwritten examples of each letter in the alphabet. \n",
    "- The letters will represent the different unordered categories or class labels to predict. \n",
    "- If a user provides a new handwritten character via an input device, the predictive model will be able to predict the correct letter in the alphabet with certain accuracy.\n",
    "- The machine learning system would not be able to correctly recognize any of the digits if they were not part of the training dataset."
   ]
  },
  {
   "cell_type": "markdown",
   "metadata": {},
   "source": [
    "## Linear Regression\n",
    "\n",
    "### Regression for predicting continuous outcomes (also called regression analysis)\n",
    "- Uses a number of predictor (explanatory) variables and a continuous response variable (outcome)\n",
    "- Goal is to try to find a relationship between those variables that allows us to predict an outcome.\n",
    "- predictor variables are commonly called \"features\"\n",
    "- response variables are commonly called \"target variables\"\n",
    "\n",
    "#### Example: predicting the math SAT scores of students.\n",
    "- Is there is a relationship between the time spent studying for the test and the final scores?\n",
    "- Use training data to learn a model that uses the study time to predict the test scores of future students who are planning to take this test\n",
    "\n",
    "### Linear Regression demo"
   ]
  },
  {
   "cell_type": "code",
   "execution_count": 5,
   "metadata": {},
   "outputs": [
    {
     "name": "stdout",
     "output_type": "stream",
     "text": [
      "Shape of x_5 array: (7, 1)\n",
      "Shape of y_5 array: (7, 1)\n",
      "Theta 0 (intercept): 0.8475351486029554\n",
      "Theta 1 (slope): 1.222726463783591\n"
     ]
    },
    {
     "data": {
      "image/png": "[encoded data removed]",
      "text/plain": [
       "<Figure size 432x288 with 1 Axes>"
      ]
     },
     "metadata": {
      "needs_background": "light"
     },
     "output_type": "display_data"
    }
   ],
   "source": [
    "# Linear Regression\n",
    "# imports\n",
    "from sklearn.linear_model import LinearRegression\n",
    "import matplotlib.pyplot as plt\n",
    "import numpy as np\n",
    "\n",
    "# Generate sample data\n",
    "# _5 for 5th example\n",
    "# 1x7 arrays\n",
    "# there's an issue with regr.fit that can be fixed 1 of ways\n",
    "# .transpose\n",
    "# take a one dimensional array which was just seven values and make it into\n",
    "# two dimensions even though it's only got one column \n",
    "x_5 = np.array([[0.1, 1.2, 2.4, 3.2, 4.1, 5.7, 6.5]]).transpose()\n",
    "# .reshape\n",
    "# supply how many rows and columns\n",
    "y_5 = np.array([1.7, 2.4, 3.5, 3.0, 6.1, 9.4, 8.2]).reshape(7, 1)\n",
    "\n",
    "regr = LinearRegression()\n",
    "regr.fit(x_5, y_5)\n",
    "# print intercept\n",
    "print('Theta 0 (intercept):', regr.intercept_[0])\n",
    "# print slope\n",
    "print('Theta 1 (slope):', regr.coef_[0][0])\n",
    "\n",
    "# plot it\n",
    "# this is best fit line\n",
    "# not the cost function\n",
    "plt.scatter(x_5, y_5, s=50)\n",
    "plt.plot(x_5, regr.predict(x_5), color='orange', linewidth=3)\n",
    "plt.xlabel('x values')\n",
    "plt.ylabel('y values')\n",
    "plt.show()"
   ]
  },
  {
   "cell_type": "markdown",
   "metadata": {},
   "source": [
    "## Figure above illustrates the concept of linear regression. \n",
    "- Given a feature variable, x, and a target variable, y, fit a straight line to this data that minimizes the distance ( most commonly the average squared distance between the data points and the fitted line).\n",
    "- Use the intercept and slope learned from this data to predict the target variable of new data:"
   ]
  },
  {
   "cell_type": "markdown",
   "metadata": {},
   "source": [
    "## Reinforcement learning\n",
    "- Goal is to develop a system (agent) that improves its performance based on interactions with the environment.\n",
    "- Information about the current state of the environment typically also includes a so-called reward signal\n",
    "- we can think of reinforcement learning as a field related to supervised learning.\n",
    "- Feedback is a measure of how well the action was measured by a reward function.\n",
    "- Through its interaction with the environment, an agent can then use reinforcement learning to learn a series of actions that maximizes this reward via an exploratory trial-and-error approach or deliberative planning.\n",
    "\n",
    "### Reinforcement learning is concerned with learning to choose a series of actions that maximizes the total reward, which could be earned either immediately after taking an action or via delayed feedback\n",
    "- Example: a chess engine. \n",
    "- agent decides upon a series of moves depending on the state of the board (the environment)\n",
    "- the reward is winning or losing the game\n",
    "\n",
    "### Flow\n",
    "- Environment feeds state and reward to the agent\n",
    "- Agent sends Actions to the environment\n",
    "- Each state can be associated with a positive or negative reward\n",
    "- The reward can be defined as accomplishing an overall goal"
   ]
  },
  {
   "cell_type": "markdown",
   "metadata": {},
   "source": [
    "# Unsupervised Learning\n",
    "## Discovering hidden structures\n",
    "\n",
    "- dealing with unlabeled data or data of unknown structure.\n",
    "- Goal is to explore the structure of our data to extract meaningful information"
   ]
  },
  {
   "cell_type": "markdown",
   "metadata": {},
   "source": [
    "## Clustering\n",
    "\n",
    "- exploratory data analysis technique that allows us to organize a pile of information into meaningful subgroups (clusters) without having any prior knowledge of their group memberships. \n",
    "- Each cluster that arises during the analysis defines a group of objects that share a certain degree of similarity but are more dissimilar to objects in other clusters\n",
    "- Sometimes called unsupervised classification. \n",
    "- Clustering is a great technique for structuring information and deriving meaningful relationships from data."
   ]
  },
  {
   "cell_type": "code",
   "execution_count": 11,
   "metadata": {},
   "outputs": [
    {
     "data": {
      "image/png": "[encoded data removed]",
      "text/plain": [
       "<Figure size 432x288 with 1 Axes>"
      ]
     },
     "metadata": {
      "needs_background": "light"
     },
     "output_type": "display_data"
    }
   ],
   "source": [
    "# evenly sampled time at 200ms intervals\n",
    "t = np.arange(3., 5., 0.2)\n",
    "\n",
    "plt.plot(t, t, 'r--', t, t**2, 'bs', t, t**3, 'g^')\n",
    "plt.show()"
   ]
  },
  {
   "cell_type": "markdown",
   "metadata": {},
   "source": [
    "Above plot shows clustering\n",
    "- Red dashes represent a cluster\n",
    "- Blue squares represent another cluster\n",
    "- Green triangles represent a third cluster"
   ]
  },
  {
   "cell_type": "markdown",
   "metadata": {},
   "source": [
    "## Dimensionality Reduction. \n",
    "\n",
    "- Data with high dimensionality means each observation comes with a high number of measurements that can present a challenge for limited storage space and the computational performance of machine learning algorithms. \n",
    "- Unsupervised dimensionality reduction is a commonly used approach in feature preprocessing to remove noise from data and compress the data onto a smaller dimensional subspace while retaining most of the relevant information\n",
    "- May degrade the predictive performance of certain algorithms\n",
    "- Can be useful for visualizing data via 2D or 3D scatterplots or histograms"
   ]
  },
  {
   "cell_type": "markdown",
   "metadata": {},
   "source": [
    "# Notation and convention\n",
    "- The *Data Row* are the samples (also referred to as instances and observations)\n",
    "- The data in <span style=\"color:blue\">*BLUE TEXT*</span> are the features (also called attributes, measurements, deminsions)\n",
    "- The data in <span style=\"color:red\">*RED TEXT*</span> are the features (also called targets)"
   ]
  },
  {
   "cell_type": "markdown",
   "metadata": {},
   "source": [
    "| Data Row | Sepal Width | Sepal Length | Petal length | Petal Width | Class label |\n",
    "| --- | --- |  --- | --- | --- | --- |\n",
    "| `1` | <span style=\"color:blue\">5.1</span> | <span style=\"color:blue\">3.5</span> | <span style=\"color:blue\">1.4</span> | <span style=\"color:blue\">0.2</span> | <span style=\"color:red\">Serosa</span> |\n",
    "| `2` | <span style=\"color:blue\">4.9</span> | <span style=\"color:blue\">3.0</span> | <span style=\"color:blue\">1.4</span> | <span style=\"color:blue\">0.2</span> | <span style=\"color:red\">Serosa</span> |\n",
    "| ... | ... | ... | ... | ... | ... |\n",
    "| `50` | <span style=\"color:blue\">6.4</span> | <span style=\"color:blue\">3.5</span> | <span style=\"color:blue\">4.5</span> | <span style=\"color:blue\">1.2</span> | <span style=\"color:red\">Versicolor</span> |\n",
    "| ... | ... | ... | ... | ... | ... |\n",
    "| `150` | <span style=\"color:blue\">5.9</span> | <span style=\"color:blue\">3.0</span> | <span style=\"color:blue\">5.0</span> | <span style=\"color:blue\">1.8</span> | <span style=\"color:red\">Vergnica</span>"
   ]
  },
  {
   "cell_type": "markdown",
   "metadata": {},
   "source": [
    "the common convention is to represent each example as a separate row in a feature matrix, X, where each feature is stored as a separate column."
   ]
  },
  {
   "cell_type": "markdown",
   "metadata": {},
   "source": [
    "|  |  |  |  |  \n",
    "| --- | --- |  --- | --- |\n",
    "| $$  {x_{1} ^ 1} $$ | $$  {x_{2} ^ 1} $$ | $$  {x_{3} ^ 1} $$ | $$  {x_{4} ^ 1} $$ |\n",
    "| $$  {x_{1} ^ 2} $$ | $$  {x_{2} ^ 2} $$ | $$  {x_{3} ^ 2} $$ | $$  {x_{4} ^ 2} $$ |  \n",
    "| ... | ... |  ... | ... |  \n",
    "| $$  {x_{1} ^ n} $$ | $$  {x_{2} ^ n} $$ | $$  {x_{3} ^ n} $$ | $$  {x_{4} ^ n} $$ |  "
   ]
  },
  {
   "cell_type": "markdown",
   "metadata": {},
   "source": [
    "# Machine Learning Terminology\n",
    "\n",
    "- Training example A row in a table representing the dataset and synonymous with an observation, record, instance, or sample (in most contexts, sample refers to a collection of training examples).\n",
    "- Training: Model fitting, for parametric models similar to parameter estimation.\n",
    "- Feature, (*abbreviated x*): A column in a data table or data (design) matrix. Synonymous with predictor, variable, input, attribute, or covariate.\n",
    "- Target, (*abbreviated y)*: Synonymous with outcome, output, response variable, dependent variable, (class) label, and ground truth.\n",
    "- Loss function: Often used synonymously with a cost function. Sometimes the loss function is also called an error function. "
   ]
  },
  {
   "cell_type": "markdown",
   "metadata": {},
   "source": [
    "# Typical Workflow\n",
    "\n",
    "1 - Preprocessing – getting data into shape \n",
    "- Raw data rarely comes in the form and shape that is necessary for the optimal performance of a learning algorithm.\n",
    "- One of the most crucial steps in any machine learning application. \n",
    "- Many machine learning algorithms also require that the selected features are on the same scale for optimal performance, which is often achieved by transforming the features in the range [0, 1] or a standard normal distribution with zero mean and unit variance \n",
    "- Some of the selected features may be highly correlated and therefore redundant to a certain degree. In those cases, dimensionality reduction techniques are useful for compressing the features onto a lower dimensional subspace.\n",
    "- Randomly divide the dataset into a separate training and test dataset.\n",
    "- The training dataset to train and optimize our machine learning model\n",
    "- The test dataset until the very end to evaluate the final model.\n",
    "\n",
    "2 - Training and selecting a predictive model\n",
    "- Many different machine learning algorithms have been developed to solve different problem tasks \n",
    "- Each classification algorithm has its inherent biases, and no single classification model enjoys superiority\n",
    "- It is therefore essential to compare at least a handful of different algorithms in order to train and select the best performing model. \n",
    "- Have to decide upon a metric to measure performance.\n",
    "- One commonly used metric is classification accuracy, which is defined as the proportion of correctly classified instances.\n",
    "- cross-validation where the dataset is divided into training and validation subsets in order to estimate the generalization performance of the model.\n",
    "- Do not expect that the default parameters of the different learning algorithms provided by software libraries are optimal for our specific problem task.\n",
    "- Use of hyperparameter optimization techniques that help us to fine-tune the performance of our model\n",
    "\n",
    "3 - Evaluating models and predicting unseen data instances\n",
    "- Use the test dataset to estimate how well it performs on this unseen data to estimate the so-called generalization error. "
   ]
  }
 ],
 "metadata": {
  "kernelspec": {
   "display_name": "Python 3",
   "language": "python",
   "name": "python3"
  },
  "language_info": {
   "codemirror_mode": {
    "name": "ipython",
    "version": 3
   },
   "file_extension": ".py",
   "mimetype": "text/x-python",
   "name": "python",
   "nbconvert_exporter": "python",
   "pygments_lexer": "ipython3",
   "version": "3.7.1"
  }
 },
 "nbformat": 4,
 "nbformat_minor": 4
}
