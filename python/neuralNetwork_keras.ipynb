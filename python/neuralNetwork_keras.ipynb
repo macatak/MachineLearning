{
 "cells": [
  {
   "cell_type": "markdown",
   "metadata": {},
   "source": [
    "## Nueral Network with Keras\n",
    "### Steps\n",
    "    Load Data.\n",
    "    Define Keras Model.\n",
    "    Compile Keras Model.\n",
    "    Fit Keras Model.\n",
    "    Evaluate Keras Model.\n",
    "    Tie It All Together.\n",
    "    Make Predictions\n",
    "- from https://machinelearningmastery.com/tutorial-first-neural-network-python-keras/"
   ]
  },
  {
   "cell_type": "code",
   "execution_count": 18,
   "metadata": {},
   "outputs": [],
   "source": [
    "# first neural network with keras tutorial\n",
    "from numpy import loadtxt\n",
    "from keras.models import Sequential\n",
    "from keras.layers import Dense"
   ]
  },
  {
   "cell_type": "markdown",
   "metadata": {},
   "source": [
    "Using the Pima Indians Diabetes Database\n",
    "- Predict the onset of diabetes based on diagnostic measures\n",
    "- This dataset is originally from the National Institute of Diabetes and Digestive and Kidney Diseases. The objective of the dataset is to diagnostically predict whether or not a patient has diabetes, based on certain diagnostic measurements included in the dataset.\n",
    "\n",
    "\n",
    "For Each Attribute: (all numeric-valued)\n",
    "   1. Number of times pregnant\n",
    "   2. Plasma glucose concentration a 2 hours in an oral glucose tolerance test\n",
    "   3. Diastolic blood pressure (mm Hg)\n",
    "   4. Triceps skin fold thickness (mm)\n",
    "   5. 2-Hour serum insulin (mu U/ml)\n",
    "   6. Body mass index (weight in kg/(height in m)^2)\n",
    "   7. Diabetes pedigree function\n",
    "   8. Age (years)\n",
    "   9. Class variable (0 or 1)\n"
   ]
  },
  {
   "cell_type": "code",
   "execution_count": 19,
   "metadata": {},
   "outputs": [],
   "source": [
    "# load the dataset\n",
    "dataset = loadtxt('G:\\\\atom_workspace\\\\MachineLearning\\\\pima-indians-diabetes.csv', delimiter=',')\n",
    "# split into input (X) and output (y) variables\n",
    "#\n",
    "# this gets column indices 0-8 for X\n",
    "X = dataset[:,0:8]\n",
    "# this assigns the value in column index 9 to y\n",
    "y = dataset[:,8]"
   ]
  },
  {
   "cell_type": "code",
   "execution_count": 20,
   "metadata": {},
   "outputs": [
    {
     "name": "stdout",
     "output_type": "stream",
     "text": [
      "[[  6.    148.     72.    ...   0.627  50.      1.   ]\n",
      " [  1.     85.     66.    ...   0.351  31.      0.   ]\n",
      " [  8.    183.     64.    ...   0.672  32.      1.   ]\n",
      " ...\n",
      " [  5.    121.     72.    ...   0.245  30.      0.   ]\n",
      " [  1.    126.     60.    ...   0.349  47.      1.   ]\n",
      " [  1.     93.     70.    ...   0.315  23.      0.   ]]\n"
     ]
    }
   ],
   "source": [
    "print(dataset)"
   ]
  },
  {
   "cell_type": "code",
   "execution_count": 21,
   "metadata": {},
   "outputs": [
    {
     "name": "stdout",
     "output_type": "stream",
     "text": [
      "[[  6.    148.     72.    ...  33.6     0.627  50.   ]\n",
      " [  1.     85.     66.    ...  26.6     0.351  31.   ]\n",
      " [  8.    183.     64.    ...  23.3     0.672  32.   ]\n",
      " ...\n",
      " [  5.    121.     72.    ...  26.2     0.245  30.   ]\n",
      " [  1.    126.     60.    ...  30.1     0.349  47.   ]\n",
      " [  1.     93.     70.    ...  30.4     0.315  23.   ]]\n"
     ]
    }
   ],
   "source": [
    "# have to look at the data set for this to make sense\n",
    "print(X)"
   ]
  },
  {
   "cell_type": "code",
   "execution_count": 22,
   "metadata": {},
   "outputs": [
    {
     "name": "stdout",
     "output_type": "stream",
     "text": [
      "[1. 0. 1. 0. 1. 0. 1. 0. 1. 1. 0. 1. 0. 1. 1. 1. 1. 1. 0. 1. 0. 0. 1. 1.\n",
      " 1. 1. 1. 0. 0. 0. 0. 1. 0. 0. 0. 0. 0. 1. 1. 1. 0. 0. 0. 1. 0. 1. 0. 0.\n",
      " 1. 0. 0. 0. 0. 1. 0. 0. 1. 0. 0. 0. 0. 1. 0. 0. 1. 0. 1. 0. 0. 0. 1. 0.\n",
      " 1. 0. 0. 0. 0. 0. 1. 0. 0. 0. 0. 0. 1. 0. 0. 0. 1. 0. 0. 0. 0. 1. 0. 0.\n",
      " 0. 0. 0. 1. 1. 0. 0. 0. 0. 0. 0. 0. 0. 1. 1. 1. 0. 0. 1. 1. 1. 0. 0. 0.\n",
      " 1. 0. 0. 0. 1. 1. 0. 0. 1. 1. 1. 1. 1. 0. 0. 0. 0. 0. 0. 0. 0. 0. 0. 1.\n",
      " 0. 0. 0. 0. 0. 0. 0. 0. 1. 0. 1. 1. 0. 0. 0. 1. 0. 0. 0. 0. 1. 1. 0. 0.\n",
      " 0. 0. 1. 1. 0. 0. 0. 1. 0. 1. 0. 1. 0. 0. 0. 0. 0. 1. 1. 1. 1. 1. 0. 0.\n",
      " 1. 1. 0. 1. 0. 1. 1. 1. 0. 0. 0. 0. 0. 0. 1. 1. 0. 1. 0. 0. 0. 1. 1. 1.\n",
      " 1. 0. 1. 1. 1. 1. 0. 0. 0. 0. 0. 1. 0. 0. 1. 1. 0. 0. 0. 1. 1. 1. 1. 0.\n",
      " 0. 0. 1. 1. 0. 1. 0. 0. 0. 0. 0. 0. 0. 0. 1. 1. 0. 0. 0. 1. 0. 1. 0. 0.\n",
      " 1. 0. 1. 0. 0. 1. 1. 0. 0. 0. 0. 0. 1. 0. 0. 0. 1. 0. 0. 1. 1. 0. 0. 1.\n",
      " 0. 0. 0. 1. 1. 1. 0. 0. 1. 0. 1. 0. 1. 1. 0. 1. 0. 0. 1. 0. 1. 1. 0. 0.\n",
      " 1. 0. 1. 0. 0. 1. 0. 1. 0. 1. 1. 1. 0. 0. 1. 0. 1. 0. 0. 0. 1. 0. 0. 0.\n",
      " 0. 1. 1. 1. 0. 0. 0. 0. 0. 0. 0. 0. 0. 1. 0. 0. 0. 0. 0. 1. 1. 1. 0. 1.\n",
      " 1. 0. 0. 1. 0. 0. 1. 0. 0. 1. 1. 0. 0. 0. 0. 1. 0. 0. 1. 0. 0. 0. 0. 0.\n",
      " 0. 0. 1. 1. 1. 0. 0. 1. 0. 0. 1. 0. 0. 1. 0. 1. 1. 0. 1. 0. 1. 0. 1. 0.\n",
      " 1. 1. 0. 0. 0. 0. 1. 1. 0. 1. 0. 1. 0. 0. 0. 0. 1. 1. 0. 1. 0. 1. 0. 0.\n",
      " 0. 0. 0. 1. 0. 0. 0. 0. 1. 0. 0. 1. 1. 1. 0. 0. 1. 0. 0. 1. 0. 0. 0. 1.\n",
      " 0. 0. 1. 0. 0. 0. 0. 0. 0. 0. 0. 0. 1. 0. 0. 0. 0. 0. 0. 0. 1. 0. 0. 0.\n",
      " 1. 0. 0. 0. 1. 1. 0. 0. 0. 0. 0. 0. 0. 1. 0. 0. 0. 0. 1. 0. 0. 0. 1. 0.\n",
      " 0. 0. 1. 0. 0. 0. 1. 0. 0. 0. 0. 1. 1. 0. 0. 0. 0. 0. 0. 1. 0. 0. 0. 0.\n",
      " 0. 0. 0. 0. 0. 0. 0. 1. 0. 0. 0. 1. 1. 1. 1. 0. 0. 1. 1. 0. 0. 0. 0. 0.\n",
      " 0. 0. 0. 0. 0. 0. 0. 0. 1. 1. 0. 0. 0. 0. 0. 0. 0. 1. 0. 0. 0. 0. 0. 0.\n",
      " 0. 1. 0. 1. 1. 0. 0. 0. 1. 0. 1. 0. 1. 0. 1. 0. 1. 0. 0. 1. 0. 0. 1. 0.\n",
      " 0. 0. 0. 1. 1. 0. 1. 0. 0. 0. 0. 1. 1. 0. 1. 0. 0. 0. 1. 1. 0. 0. 0. 0.\n",
      " 0. 0. 0. 0. 0. 0. 1. 0. 0. 0. 0. 1. 0. 0. 1. 0. 0. 0. 1. 0. 0. 0. 1. 1.\n",
      " 1. 0. 0. 0. 0. 0. 0. 1. 0. 0. 0. 1. 0. 1. 1. 1. 1. 0. 1. 1. 0. 0. 0. 0.\n",
      " 0. 0. 0. 1. 1. 0. 1. 0. 0. 1. 0. 1. 0. 0. 0. 0. 0. 1. 0. 1. 0. 1. 0. 1.\n",
      " 1. 0. 0. 0. 0. 1. 1. 0. 0. 0. 1. 0. 1. 1. 0. 0. 1. 0. 0. 1. 1. 0. 0. 1.\n",
      " 0. 0. 1. 0. 0. 0. 0. 0. 0. 0. 1. 1. 1. 0. 0. 0. 0. 0. 0. 1. 1. 0. 0. 1.\n",
      " 0. 0. 1. 0. 1. 1. 1. 0. 0. 1. 1. 1. 0. 1. 0. 1. 0. 1. 0. 0. 0. 0. 1. 0.]\n"
     ]
    }
   ],
   "source": [
    "# have to look at the data set for this to make sense\n",
    "print(y)"
   ]
  },
  {
   "cell_type": "markdown",
   "metadata": {},
   "source": [
    "# Define Keras Model\n",
    "\n",
    "Models in Keras are defined as a sequence of layers.\n",
    "\n",
    "Create a Sequential model and add layers one at a time until we are happy with our network architecture.\n",
    "- https://keras.io/api/models/sequential/\n",
    "\n",
    "The first thing to get right is to ensure the input layer has the right number of input features. This can be specified when creating the first layer with the input_dim argument and setting it to 8 for the 8 input variables."
   ]
  },
  {
   "cell_type": "markdown",
   "metadata": {},
   "source": [
    "Fully connected layers are defined using the Dense class. We can specify the number of neurons or nodes in the layer as the first argument, and specify the activation function using the activation argumen\n",
    "- The model expects rows of data with 8 variables (the input_dim=8 argument)\n",
    "- The first hidden layer has 12 nodes and uses the relu activation function.\n",
    "- The second hidden layer has 8 nodes and uses the relu activation function.\n",
    "- The output layer has one node and uses the sigmoid activation function.\n",
    "\n",
    "We will use the rectified linear unit activation function referred to as ReLU on the first two layers and the Sigmoid function in the output layer."
   ]
  },
  {
   "cell_type": "code",
   "execution_count": 23,
   "metadata": {},
   "outputs": [],
   "source": [
    "# define the keras model\n",
    "model = Sequential()\n",
    "model.add(Dense(12, input_dim=8, activation='relu'))\n",
    "model.add(Dense(8, activation='relu'))\n",
    "model.add(Dense(1, activation='sigmoid'))"
   ]
  },
  {
   "cell_type": "markdown",
   "metadata": {},
   "source": [
    "# Compile Keras Model\n",
    "\n",
    "Compiling the model uses the efficient numerical libraries under the covers (the so-called backend) such as Theano or TensorFlow. The backend automatically chooses the best way to represent the network for training and making predictions to run on your hardware, such as CPU or GPU or even distributed.\n",
    "\n",
    "When compiling, we must specify some additional properties required when training the network\n",
    "\n",
    "- use cross entropy as the loss argument. This loss is for a binary classification problems and is defined in Keras as “binary_crossentropy“\n",
    "- define the optimizer as the efficient stochastic gradient descent algorithm “adam“. This is a popular version of gradient descent because it automatically tunes itself and gives good results in a wide range of problems\n",
    "- Since  it is a classification problem, we will collect and report the classification accuracy, defined via the metrics argument."
   ]
  },
  {
   "cell_type": "code",
   "execution_count": 24,
   "metadata": {},
   "outputs": [],
   "source": [
    "# compile the keras model\n",
    "model.compile(loss='binary_crossentropy', optimizer='adam', metrics=['accuracy'])"
   ]
  },
  {
   "cell_type": "markdown",
   "metadata": {},
   "source": [
    "# Train or fit our model on our loaded data by calling the fit() function on the model.\n",
    "\n",
    "Training occurs over epochs and each epoch is split into batches.\n",
    "\n",
    "    Epoch: One pass through all of the rows in the training dataset.\n",
    "    Batch: One or more samples considered by the model within an epoch before weights are updated.\n",
    "\n",
    "One epoch is comprised of one or more batches, based on the chosen batch size and the model is fit for many epochs\n",
    "\n",
    "- The training process will run for a fixed number of iterations through the dataset called epochs, that we must specify using the epochs argument.\n",
    "- set the number of dataset rows that are considered before the model weights are updated within each epoch, called the batch size and set using the batch_size argument\n",
    "- run for a small number of epochs (150) and use a relatively small batch size of 10.\n",
    "\n",
    "These configurations can be chosen experimentally by trial and error. We want to train the model enough so that it learns a good (or good enough) mapping of rows of input data to the output classification. The model will always have some error, but the amount of error will level out after some point for a given model configuration. This is called model convergence."
   ]
  },
  {
   "cell_type": "markdown",
   "metadata": {},
   "source": [
    "## This is where the work happens on your CPU or GPU."
   ]
  },
  {
   "cell_type": "code",
   "execution_count": 26,
   "metadata": {},
   "outputs": [
    {
     "name": "stdout",
     "output_type": "stream",
     "text": [
      "Epoch 1/150\n",
      " 1/77 [..............................] - ETA: 0s - loss: 0.5444 - accuracy: 0.6000WARNING:tensorflow:Callbacks method `on_train_batch_begin` is slow compared to the batch time (batch time: 0.0000s vs `on_train_batch_begin` time: 0.0010s). Check your callbacks.\n",
      "WARNING:tensorflow:Callbacks method `on_train_batch_end` is slow compared to the batch time (batch time: 0.0000s vs `on_train_batch_end` time: 0.0010s). Check your callbacks.\n",
      "77/77 [==============================] - 0s 765us/step - loss: 0.4738 - accuracy: 0.7591\n",
      "Epoch 2/150\n",
      "77/77 [==============================] - 0s 714us/step - loss: 0.4658 - accuracy: 0.7578\n",
      "Epoch 3/150\n",
      "77/77 [==============================] - 0s 804us/step - loss: 0.4846 - accuracy: 0.7578\n",
      "Epoch 4/150\n",
      "77/77 [==============================] - 0s 740us/step - loss: 0.4702 - accuracy: 0.7760\n",
      "Epoch 5/150\n",
      "77/77 [==============================] - 0s 728us/step - loss: 0.4724 - accuracy: 0.7760\n",
      "Epoch 6/150\n",
      "77/77 [==============================] - 0s 752us/step - loss: 0.4822 - accuracy: 0.7630\n",
      "Epoch 7/150\n",
      "77/77 [==============================] - 0s 701us/step - loss: 0.4759 - accuracy: 0.7695\n",
      "Epoch 8/150\n",
      "77/77 [==============================] - 0s 739us/step - loss: 0.4576 - accuracy: 0.7799\n",
      "Epoch 9/150\n",
      "77/77 [==============================] - 0s 753us/step - loss: 0.4981 - accuracy: 0.7552\n",
      "Epoch 10/150\n",
      "77/77 [==============================] - 0s 752us/step - loss: 0.4716 - accuracy: 0.7617\n",
      "Epoch 11/150\n",
      "77/77 [==============================] - 0s 740us/step - loss: 0.4619 - accuracy: 0.7786\n",
      "Epoch 12/150\n",
      "77/77 [==============================] - 0s 714us/step - loss: 0.4814 - accuracy: 0.7630\n",
      "Epoch 13/150\n",
      "77/77 [==============================] - 0s 727us/step - loss: 0.4975 - accuracy: 0.7513\n",
      "Epoch 14/150\n",
      "77/77 [==============================] - 0s 714us/step - loss: 0.4688 - accuracy: 0.7578\n",
      "Epoch 15/150\n",
      "77/77 [==============================] - 0s 748us/step - loss: 0.4703 - accuracy: 0.7695\n",
      "Epoch 16/150\n",
      "77/77 [==============================] - 0s 741us/step - loss: 0.4591 - accuracy: 0.7682\n",
      "Epoch 17/150\n",
      "77/77 [==============================] - 0s 714us/step - loss: 0.4809 - accuracy: 0.7656\n",
      "Epoch 18/150\n",
      "77/77 [==============================] - 0s 714us/step - loss: 0.4644 - accuracy: 0.7760\n",
      "Epoch 19/150\n",
      "77/77 [==============================] - 0s 752us/step - loss: 0.4761 - accuracy: 0.7721\n",
      "Epoch 20/150\n",
      "77/77 [==============================] - 0s 688us/step - loss: 0.4608 - accuracy: 0.7734\n",
      "Epoch 21/150\n",
      "77/77 [==============================] - 0s 714us/step - loss: 0.4604 - accuracy: 0.7773\n",
      "Epoch 22/150\n",
      "77/77 [==============================] - 0s 701us/step - loss: 0.4718 - accuracy: 0.7643\n",
      "Epoch 23/150\n",
      "77/77 [==============================] - 0s 688us/step - loss: 0.4653 - accuracy: 0.7760\n",
      "Epoch 24/150\n",
      "77/77 [==============================] - 0s 701us/step - loss: 0.4614 - accuracy: 0.7721\n",
      "Epoch 25/150\n",
      "77/77 [==============================] - 0s 727us/step - loss: 0.4688 - accuracy: 0.7773\n",
      "Epoch 26/150\n",
      "77/77 [==============================] - 0s 701us/step - loss: 0.4667 - accuracy: 0.7760\n",
      "Epoch 27/150\n",
      "77/77 [==============================] - 0s 701us/step - loss: 0.4577 - accuracy: 0.7812\n",
      "Epoch 28/150\n",
      "77/77 [==============================] - 0s 723us/step - loss: 0.4713 - accuracy: 0.7643\n",
      "Epoch 29/150\n",
      "77/77 [==============================] - 0s 714us/step - loss: 0.4609 - accuracy: 0.7865\n",
      "Epoch 30/150\n",
      "77/77 [==============================] - 0s 701us/step - loss: 0.4681 - accuracy: 0.7695\n",
      "Epoch 31/150\n",
      "77/77 [==============================] - 0s 726us/step - loss: 0.4734 - accuracy: 0.7695\n",
      "Epoch 32/150\n",
      "77/77 [==============================] - 0s 701us/step - loss: 0.4937 - accuracy: 0.7526\n",
      "Epoch 33/150\n",
      "77/77 [==============================] - 0s 740us/step - loss: 0.4663 - accuracy: 0.7773\n",
      "Epoch 34/150\n",
      "77/77 [==============================] - 0s 702us/step - loss: 0.4777 - accuracy: 0.7617\n",
      "Epoch 35/150\n",
      "77/77 [==============================] - 0s 714us/step - loss: 0.4743 - accuracy: 0.7812\n",
      "Epoch 36/150\n",
      "77/77 [==============================] - 0s 675us/step - loss: 0.4563 - accuracy: 0.7747\n",
      "Epoch 37/150\n",
      "77/77 [==============================] - 0s 701us/step - loss: 0.4681 - accuracy: 0.7721\n",
      "Epoch 38/150\n",
      "77/77 [==============================] - 0s 675us/step - loss: 0.4609 - accuracy: 0.7734\n",
      "Epoch 39/150\n",
      "77/77 [==============================] - 0s 727us/step - loss: 0.4719 - accuracy: 0.7695\n",
      "Epoch 40/150\n",
      "77/77 [==============================] - 0s 714us/step - loss: 0.4554 - accuracy: 0.7747\n",
      "Epoch 41/150\n",
      "77/77 [==============================] - 0s 701us/step - loss: 0.4703 - accuracy: 0.7786\n",
      "Epoch 42/150\n",
      "77/77 [==============================] - 0s 688us/step - loss: 0.4595 - accuracy: 0.7878\n",
      "Epoch 43/150\n",
      "77/77 [==============================] - 0s 688us/step - loss: 0.4607 - accuracy: 0.7826\n",
      "Epoch 44/150\n",
      "77/77 [==============================] - 0s 701us/step - loss: 0.4675 - accuracy: 0.7669\n",
      "Epoch 45/150\n",
      "77/77 [==============================] - 0s 688us/step - loss: 0.4625 - accuracy: 0.7852\n",
      "Epoch 46/150\n",
      "77/77 [==============================] - 0s 688us/step - loss: 0.4612 - accuracy: 0.7852\n",
      "Epoch 47/150\n",
      "77/77 [==============================] - 0s 701us/step - loss: 0.4577 - accuracy: 0.7865\n",
      "Epoch 48/150\n",
      "77/77 [==============================] - 0s 688us/step - loss: 0.4616 - accuracy: 0.7760\n",
      "Epoch 49/150\n",
      "77/77 [==============================] - 0s 675us/step - loss: 0.4576 - accuracy: 0.7852\n",
      "Epoch 50/150\n",
      "77/77 [==============================] - 0s 688us/step - loss: 0.4673 - accuracy: 0.7669\n",
      "Epoch 51/150\n",
      "77/77 [==============================] - 0s 702us/step - loss: 0.4620 - accuracy: 0.7669\n",
      "Epoch 52/150\n",
      "77/77 [==============================] - 0s 688us/step - loss: 0.4729 - accuracy: 0.7747\n",
      "Epoch 53/150\n",
      "77/77 [==============================] - 0s 701us/step - loss: 0.4617 - accuracy: 0.7878\n",
      "Epoch 54/150\n",
      "77/77 [==============================] - 0s 688us/step - loss: 0.4668 - accuracy: 0.7773\n",
      "Epoch 55/150\n",
      "77/77 [==============================] - 0s 662us/step - loss: 0.4585 - accuracy: 0.7747\n",
      "Epoch 56/150\n",
      "77/77 [==============================] - 0s 727us/step - loss: 0.4524 - accuracy: 0.7891\n",
      "Epoch 57/150\n",
      "77/77 [==============================] - 0s 675us/step - loss: 0.4601 - accuracy: 0.7747\n",
      "Epoch 58/150\n",
      "77/77 [==============================] - 0s 688us/step - loss: 0.4606 - accuracy: 0.7839\n",
      "Epoch 59/150\n",
      "77/77 [==============================] - 0s 714us/step - loss: 0.4712 - accuracy: 0.7695\n",
      "Epoch 60/150\n",
      "77/77 [==============================] - 0s 714us/step - loss: 0.4554 - accuracy: 0.7826\n",
      "Epoch 61/150\n",
      "77/77 [==============================] - 0s 675us/step - loss: 0.4655 - accuracy: 0.7773\n",
      "Epoch 62/150\n",
      "77/77 [==============================] - 0s 701us/step - loss: 0.4563 - accuracy: 0.7799\n",
      "Epoch 63/150\n",
      "77/77 [==============================] - 0s 675us/step - loss: 0.4566 - accuracy: 0.7826\n",
      "Epoch 64/150\n",
      "77/77 [==============================] - 0s 662us/step - loss: 0.4661 - accuracy: 0.7799\n",
      "Epoch 65/150\n",
      "77/77 [==============================] - 0s 701us/step - loss: 0.4646 - accuracy: 0.7721\n",
      "Epoch 66/150\n",
      "77/77 [==============================] - 0s 675us/step - loss: 0.4630 - accuracy: 0.7891\n",
      "Epoch 67/150\n",
      "77/77 [==============================] - 0s 688us/step - loss: 0.4569 - accuracy: 0.7826\n",
      "Epoch 68/150\n",
      "77/77 [==============================] - 0s 688us/step - loss: 0.4703 - accuracy: 0.7734\n",
      "Epoch 69/150\n",
      "77/77 [==============================] - 0s 689us/step - loss: 0.4650 - accuracy: 0.7747\n",
      "Epoch 70/150\n",
      "77/77 [==============================] - 0s 649us/step - loss: 0.4498 - accuracy: 0.7812\n",
      "Epoch 71/150\n",
      "77/77 [==============================] - 0s 701us/step - loss: 0.4515 - accuracy: 0.7839\n",
      "Epoch 72/150\n",
      "77/77 [==============================] - 0s 701us/step - loss: 0.4544 - accuracy: 0.7865\n",
      "Epoch 73/150\n",
      "77/77 [==============================] - 0s 714us/step - loss: 0.4675 - accuracy: 0.7852\n",
      "Epoch 74/150\n",
      "77/77 [==============================] - 0s 740us/step - loss: 0.4528 - accuracy: 0.7865\n",
      "Epoch 75/150\n",
      "77/77 [==============================] - 0s 701us/step - loss: 0.4583 - accuracy: 0.7721\n",
      "Epoch 76/150\n",
      "77/77 [==============================] - 0s 701us/step - loss: 0.4703 - accuracy: 0.7682\n",
      "Epoch 77/150\n"
     ]
    },
    {
     "name": "stdout",
     "output_type": "stream",
     "text": [
      "77/77 [==============================] - 0s 688us/step - loss: 0.4554 - accuracy: 0.7682\n",
      "Epoch 78/150\n",
      "77/77 [==============================] - 0s 701us/step - loss: 0.4597 - accuracy: 0.7891\n",
      "Epoch 79/150\n",
      "77/77 [==============================] - 0s 649us/step - loss: 0.4523 - accuracy: 0.7852\n",
      "Epoch 80/150\n",
      "77/77 [==============================] - 0s 688us/step - loss: 0.4496 - accuracy: 0.7773\n",
      "Epoch 81/150\n",
      "77/77 [==============================] - 0s 709us/step - loss: 0.4601 - accuracy: 0.7773\n",
      "Epoch 82/150\n",
      "77/77 [==============================] - 0s 727us/step - loss: 0.4656 - accuracy: 0.7865\n",
      "Epoch 83/150\n",
      "77/77 [==============================] - 0s 727us/step - loss: 0.4695 - accuracy: 0.7760\n",
      "Epoch 84/150\n",
      "77/77 [==============================] - 0s 701us/step - loss: 0.4529 - accuracy: 0.7760\n",
      "Epoch 85/150\n",
      "77/77 [==============================] - 0s 688us/step - loss: 0.4510 - accuracy: 0.7799\n",
      "Epoch 86/150\n",
      "77/77 [==============================] - 0s 701us/step - loss: 0.4544 - accuracy: 0.7773\n",
      "Epoch 87/150\n",
      "77/77 [==============================] - 0s 714us/step - loss: 0.4588 - accuracy: 0.7747\n",
      "Epoch 88/150\n",
      "77/77 [==============================] - 0s 740us/step - loss: 0.4504 - accuracy: 0.7826\n",
      "Epoch 89/150\n",
      "77/77 [==============================] - 0s 636us/step - loss: 0.4452 - accuracy: 0.7865\n",
      "Epoch 90/150\n",
      "77/77 [==============================] - 0s 649us/step - loss: 0.4615 - accuracy: 0.7852\n",
      "Epoch 91/150\n",
      "77/77 [==============================] - 0s 714us/step - loss: 0.4542 - accuracy: 0.7734\n",
      "Epoch 92/150\n",
      "77/77 [==============================] - 0s 714us/step - loss: 0.4537 - accuracy: 0.7799\n",
      "Epoch 93/150\n",
      "77/77 [==============================] - 0s 701us/step - loss: 0.4568 - accuracy: 0.7786\n",
      "Epoch 94/150\n",
      "77/77 [==============================] - 0s 714us/step - loss: 0.4486 - accuracy: 0.7786\n",
      "Epoch 95/150\n",
      "77/77 [==============================] - 0s 701us/step - loss: 0.4435 - accuracy: 0.7786\n",
      "Epoch 96/150\n",
      "77/77 [==============================] - 0s 727us/step - loss: 0.4612 - accuracy: 0.7852\n",
      "Epoch 97/150\n",
      "77/77 [==============================] - 0s 649us/step - loss: 0.4565 - accuracy: 0.7786\n",
      "Epoch 98/150\n",
      "77/77 [==============================] - 0s 701us/step - loss: 0.4478 - accuracy: 0.7839\n",
      "Epoch 99/150\n",
      "77/77 [==============================] - 0s 701us/step - loss: 0.4435 - accuracy: 0.7904\n",
      "Epoch 100/150\n",
      "77/77 [==============================] - 0s 688us/step - loss: 0.4512 - accuracy: 0.7812\n",
      "Epoch 101/150\n",
      "77/77 [==============================] - 0s 713us/step - loss: 0.4578 - accuracy: 0.7852\n",
      "Epoch 102/150\n",
      "77/77 [==============================] - 0s 649us/step - loss: 0.4455 - accuracy: 0.7865\n",
      "Epoch 103/150\n",
      "77/77 [==============================] - 0s 688us/step - loss: 0.4589 - accuracy: 0.7826\n",
      "Epoch 104/150\n",
      "77/77 [==============================] - 0s 701us/step - loss: 0.4481 - accuracy: 0.7812\n",
      "Epoch 105/150\n",
      "77/77 [==============================] - 0s 702us/step - loss: 0.4480 - accuracy: 0.7878\n",
      "Epoch 106/150\n",
      "77/77 [==============================] - 0s 701us/step - loss: 0.4565 - accuracy: 0.7799\n",
      "Epoch 107/150\n",
      "77/77 [==============================] - 0s 727us/step - loss: 0.4516 - accuracy: 0.7891\n",
      "Epoch 108/150\n",
      "77/77 [==============================] - 0s 688us/step - loss: 0.4638 - accuracy: 0.7734\n",
      "Epoch 109/150\n",
      "77/77 [==============================] - 0s 765us/step - loss: 0.4481 - accuracy: 0.7891\n",
      "Epoch 110/150\n",
      "77/77 [==============================] - 0s 727us/step - loss: 0.4503 - accuracy: 0.7773\n",
      "Epoch 111/150\n",
      "77/77 [==============================] - 0s 708us/step - loss: 0.4524 - accuracy: 0.7747\n",
      "Epoch 112/150\n",
      "77/77 [==============================] - 0s 714us/step - loss: 0.4417 - accuracy: 0.7930\n",
      "Epoch 113/150\n",
      "77/77 [==============================] - 0s 714us/step - loss: 0.4541 - accuracy: 0.7891\n",
      "Epoch 114/150\n",
      "77/77 [==============================] - 0s 701us/step - loss: 0.4429 - accuracy: 0.7891\n",
      "Epoch 115/150\n",
      "77/77 [==============================] - 0s 701us/step - loss: 0.4433 - accuracy: 0.7891\n",
      "Epoch 116/150\n",
      "77/77 [==============================] - 0s 701us/step - loss: 0.4472 - accuracy: 0.7786\n",
      "Epoch 117/150\n",
      "77/77 [==============================] - 0s 740us/step - loss: 0.4526 - accuracy: 0.7760\n",
      "Epoch 118/150\n",
      "77/77 [==============================] - 0s 701us/step - loss: 0.4449 - accuracy: 0.7786\n",
      "Epoch 119/150\n",
      "77/77 [==============================] - 0s 727us/step - loss: 0.4438 - accuracy: 0.8008\n",
      "Epoch 120/150\n",
      "77/77 [==============================] - 0s 688us/step - loss: 0.4386 - accuracy: 0.7852\n",
      "Epoch 121/150\n",
      "77/77 [==============================] - 0s 688us/step - loss: 0.4502 - accuracy: 0.7826\n",
      "Epoch 122/150\n",
      "77/77 [==============================] - 0s 728us/step - loss: 0.4545 - accuracy: 0.7812\n",
      "Epoch 123/150\n",
      "77/77 [==============================] - 0s 688us/step - loss: 0.4435 - accuracy: 0.7865\n",
      "Epoch 124/150\n",
      "77/77 [==============================] - 0s 720us/step - loss: 0.4461 - accuracy: 0.7852\n",
      "Epoch 125/150\n",
      "77/77 [==============================] - 0s 662us/step - loss: 0.4487 - accuracy: 0.7812\n",
      "Epoch 126/150\n",
      "77/77 [==============================] - 0s 701us/step - loss: 0.4576 - accuracy: 0.7773\n",
      "Epoch 127/150\n",
      "77/77 [==============================] - 0s 714us/step - loss: 0.4514 - accuracy: 0.7917\n",
      "Epoch 128/150\n",
      "77/77 [==============================] - 0s 727us/step - loss: 0.4476 - accuracy: 0.7852\n",
      "Epoch 129/150\n",
      "77/77 [==============================] - 0s 701us/step - loss: 0.4442 - accuracy: 0.7982\n",
      "Epoch 130/150\n",
      "77/77 [==============================] - 0s 701us/step - loss: 0.4512 - accuracy: 0.7760\n",
      "Epoch 131/150\n",
      "77/77 [==============================] - 0s 701us/step - loss: 0.4461 - accuracy: 0.7786\n",
      "Epoch 132/150\n",
      "77/77 [==============================] - 0s 675us/step - loss: 0.4588 - accuracy: 0.7799\n",
      "Epoch 133/150\n",
      "77/77 [==============================] - 0s 688us/step - loss: 0.4579 - accuracy: 0.7786\n",
      "Epoch 134/150\n",
      "77/77 [==============================] - 0s 739us/step - loss: 0.4418 - accuracy: 0.7904\n",
      "Epoch 135/150\n",
      "77/77 [==============================] - 0s 739us/step - loss: 0.4481 - accuracy: 0.7786\n",
      "Epoch 136/150\n",
      "77/77 [==============================] - 0s 714us/step - loss: 0.4556 - accuracy: 0.7760\n",
      "Epoch 137/150\n",
      "77/77 [==============================] - 0s 701us/step - loss: 0.4582 - accuracy: 0.7852\n",
      "Epoch 138/150\n",
      "77/77 [==============================] - 0s 688us/step - loss: 0.4729 - accuracy: 0.7812\n",
      "Epoch 139/150\n",
      "77/77 [==============================] - 0s 701us/step - loss: 0.4585 - accuracy: 0.7839\n",
      "Epoch 140/150\n",
      "77/77 [==============================] - 0s 688us/step - loss: 0.4529 - accuracy: 0.7826\n",
      "Epoch 141/150\n",
      "77/77 [==============================] - 0s 714us/step - loss: 0.4446 - accuracy: 0.7773\n",
      "Epoch 142/150\n",
      "77/77 [==============================] - 0s 688us/step - loss: 0.4450 - accuracy: 0.7799\n",
      "Epoch 143/150\n",
      "77/77 [==============================] - 0s 688us/step - loss: 0.4475 - accuracy: 0.7969\n",
      "Epoch 144/150\n",
      "77/77 [==============================] - 0s 714us/step - loss: 0.4450 - accuracy: 0.7865\n",
      "Epoch 145/150\n",
      "77/77 [==============================] - 0s 727us/step - loss: 0.4525 - accuracy: 0.7839\n",
      "Epoch 146/150\n",
      "77/77 [==============================] - 0s 708us/step - loss: 0.4424 - accuracy: 0.7878\n",
      "Epoch 147/150\n",
      "77/77 [==============================] - 0s 675us/step - loss: 0.4375 - accuracy: 0.7865\n",
      "Epoch 148/150\n",
      "77/77 [==============================] - 0s 714us/step - loss: 0.4679 - accuracy: 0.7812\n",
      "Epoch 149/150\n",
      "77/77 [==============================] - 0s 714us/step - loss: 0.4501 - accuracy: 0.7799\n",
      "Epoch 150/150\n",
      "77/77 [==============================] - 0s 714us/step - loss: 0.4572 - accuracy: 0.7773\n"
     ]
    },
    {
     "data": {
      "text/plain": [
       "<tensorflow.python.keras.callbacks.History at 0x1df93d492b0>"
      ]
     },
     "execution_count": 26,
     "metadata": {},
     "output_type": "execute_result"
    }
   ],
   "source": [
    "# fit the keras model on the dataset\n",
    "model.fit(X, y, epochs=150, batch_size=10)"
   ]
  },
  {
   "cell_type": "markdown",
   "metadata": {},
   "source": [
    "# Evaluate Keras Model\n",
    "\n",
    "This will only give us an idea of how well we have modeled the dataset (e.g. train accuracy), but no idea of how well the algorithm might perform on new data. \n",
    "\n",
    "You can evaluate your model on your training dataset using the evaluate() function on your model and pass it the same input and output used to train the model.\n",
    "\n",
    "This will generate a prediction for each input and output pair and collect scores, including the average loss and any metrics you have configured, such as accuracy.\n",
    "\n",
    "The evaluate() function will return a list with two values.\n",
    "- The first will be the loss of the model on the dataset\n",
    "- The second will be the accuracy of the model on the dataset. \n",
    "\n",
    "We are only interested in reporting the accuracy, so we will ignore the loss value."
   ]
  },
  {
   "cell_type": "code",
   "execution_count": 27,
   "metadata": {},
   "outputs": [
    {
     "name": "stdout",
     "output_type": "stream",
     "text": [
      "24/24 [==============================] - 0s 624us/step - loss: 0.4413 - accuracy: 0.7917\n",
      "Accuracy: 79.17\n"
     ]
    }
   ],
   "source": [
    "_, accuracy = model.evaluate(X, y)\n",
    "print('Accuracy: %.2f' % (accuracy*100))"
   ]
  },
  {
   "cell_type": "markdown",
   "metadata": {},
   "source": [
    "#  Make Predictions\n",
    "\n",
    "We can adapt the above example and use it to generate predictions on the training dataset, pretending it is a new dataset we have not seen before.\n",
    "\n",
    "Making predictions is as easy as calling the predict() function on the model.\n",
    "- We are using a sigmoid activation function on the output layer, so the predictions will be a probability in the range between 0 and 1. \n",
    "- We can easily convert them into a crisp binary prediction for this classification task by rounding them."
   ]
  },
  {
   "cell_type": "code",
   "execution_count": 28,
   "metadata": {},
   "outputs": [],
   "source": [
    "# make probability predictions with the model\n",
    "predictions = model.predict(X)\n",
    "# round predictions \n",
    "rounded = [round(x[0]) for x in predictions]"
   ]
  },
  {
   "cell_type": "code",
   "execution_count": 31,
   "metadata": {},
   "outputs": [
    {
     "name": "stdout",
     "output_type": "stream",
     "text": [
      "[6.0, 148.0, 72.0, 35.0, 0.0, 33.6, 0.627, 50.0] => 1 (expected 1)\n",
      "[1.0, 85.0, 66.0, 29.0, 0.0, 26.6, 0.351, 31.0] => 0 (expected 0)\n",
      "[8.0, 183.0, 64.0, 0.0, 0.0, 23.3, 0.672, 32.0] => 1 (expected 1)\n",
      "[1.0, 89.0, 66.0, 23.0, 94.0, 28.1, 0.167, 21.0] => 0 (expected 0)\n",
      "[0.0, 137.0, 40.0, 35.0, 168.0, 43.1, 2.288, 33.0] => 1 (expected 1)\n"
     ]
    }
   ],
   "source": [
    "# summarize the first 5 cases\n",
    "for i in range(5):\n",
    "    print('%s => %d (expected %d)' % (X[i].tolist(), predictions[i], y[i]))"
   ]
  },
  {
   "cell_type": "markdown",
   "metadata": {},
   "source": [
    "Alternately, call the predict_classes() function on the model to predict crisp classes directly"
   ]
  },
  {
   "cell_type": "code",
   "execution_count": 36,
   "metadata": {},
   "outputs": [],
   "source": [
    "# make class predictions with the model\n",
    "predictions = model.predict_classes(X)\n",
    "#predictions = np.argmax(model.predict(x), axis=-1)"
   ]
  },
  {
   "cell_type": "markdown",
   "metadata": {},
   "source": [
    "Print it"
   ]
  },
  {
   "cell_type": "code",
   "execution_count": 32,
   "metadata": {},
   "outputs": [
    {
     "name": "stdout",
     "output_type": "stream",
     "text": [
      "[6.0, 148.0, 72.0, 35.0, 0.0, 33.6, 0.627, 50.0] => 1 (expected 1)\n",
      "[1.0, 85.0, 66.0, 29.0, 0.0, 26.6, 0.351, 31.0] => 0 (expected 0)\n",
      "[8.0, 183.0, 64.0, 0.0, 0.0, 23.3, 0.672, 32.0] => 1 (expected 1)\n",
      "[1.0, 89.0, 66.0, 23.0, 94.0, 28.1, 0.167, 21.0] => 0 (expected 0)\n",
      "[0.0, 137.0, 40.0, 35.0, 168.0, 43.1, 2.288, 33.0] => 1 (expected 1)\n"
     ]
    }
   ],
   "source": [
    "for i in range(5):\n",
    "    print('%s => %d (expected %d)' % (X[i].tolist(), predictions[i], y[i]))"
   ]
  },
  {
   "cell_type": "code",
   "execution_count": null,
   "metadata": {},
   "outputs": [],
   "source": []
  }
 ],
 "metadata": {
  "kernelspec": {
   "display_name": "Python 3",
   "language": "python",
   "name": "python3"
  },
  "language_info": {
   "codemirror_mode": {
    "name": "ipython",
    "version": 3
   },
   "file_extension": ".py",
   "mimetype": "text/x-python",
   "name": "python",
   "nbconvert_exporter": "python",
   "pygments_lexer": "ipython3",
   "version": "3.7.1"
  }
 },
 "nbformat": 4,
 "nbformat_minor": 4
}
